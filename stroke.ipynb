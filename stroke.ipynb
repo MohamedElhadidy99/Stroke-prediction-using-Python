{
  "nbformat": 4,
  "nbformat_minor": 0,
  "metadata": {
    "colab": {
      "name": "stroke.ipynb",
      "private_outputs": true,
      "provenance": [],
      "collapsed_sections": [],
      "authorship_tag": "ABX9TyOmQc0GMGcaoDD2J1phJyOT",
      "include_colab_link": true
    },
    "kernelspec": {
      "name": "python3",
      "display_name": "Python 3"
    },
    "language_info": {
      "name": "python"
    }
  },
  "cells": [
    {
      "cell_type": "markdown",
      "metadata": {
        "id": "view-in-github",
        "colab_type": "text"
      },
      "source": [
        "<a href=\"https://colab.research.google.com/github/MohamedElhadidy99/Stroke-prediction-using-Python/blob/main/stroke.ipynb\" target=\"_parent\"><img src=\"https://colab.research.google.com/assets/colab-badge.svg\" alt=\"Open In Colab\"/></a>"
      ]
    },
    {
      "cell_type": "markdown",
      "source": [
        ""
      ],
      "metadata": {
        "id": "gs9gvbGneNL_"
      }
    },
    {
      "cell_type": "code",
      "execution_count": null,
      "metadata": {
        "id": "58eSwPMhQ9JV"
      },
      "outputs": [],
      "source": [
        "#import necessary libraries\n",
        "import pandas as pd\n",
        "import numpy as np\n",
        "import matplotlib.pyplot as plt\n",
        "import seaborn as sns\n"
      ]
    },
    {
      "cell_type": "code",
      "source": [
        "#read the csv file of dataset\n",
        "from google.colab import files\n",
        "uploaded = files.upload()\n",
        "import io\n",
        "df = pd.read_csv(io.BytesIO(uploaded['stroke dataset.csv']))\n"
      ],
      "metadata": {
        "id": "N7F04ujAREDf"
      },
      "execution_count": null,
      "outputs": []
    },
    {
      "cell_type": "code",
      "source": [
        "#know the shape and description of dataset\n",
        "df.shape \n",
        "df.columns"
      ],
      "metadata": {
        "id": "HxLF8PZDRel4"
      },
      "execution_count": null,
      "outputs": []
    },
    {
      "cell_type": "code",
      "source": [
        "df.head()"
      ],
      "metadata": {
        "id": "4cqane8SRttI"
      },
      "execution_count": null,
      "outputs": []
    },
    {
      "cell_type": "code",
      "source": [
        "df.describe()"
      ],
      "metadata": {
        "id": "f8x3ucJfRvCU"
      },
      "execution_count": null,
      "outputs": []
    },
    {
      "cell_type": "code",
      "source": [
        "#check missing values\n",
        "df.isna().sum()"
      ],
      "metadata": {
        "id": "NTsHdy4VRymI"
      },
      "execution_count": null,
      "outputs": []
    },
    {
      "cell_type": "code",
      "source": [
        "#replace missing values in BMI with average\n",
        "df['bmi'] = df['bmi'].fillna(df['bmi'].mean())"
      ],
      "metadata": {
        "id": "7Z_73MZzR5RZ"
      },
      "execution_count": null,
      "outputs": []
    },
    {
      "cell_type": "code",
      "source": [
        "df.head()"
      ],
      "metadata": {
        "id": "-acIMygaSVUU"
      },
      "execution_count": null,
      "outputs": []
    },
    {
      "cell_type": "code",
      "source": [
        "#change the age to integer\n",
        "df.dtypes\n",
        "df[\"age\"] = df[\"age\"].astype(float).astype(int)\n",
        "df.dtypes\n",
        "df.head()"
      ],
      "metadata": {
        "id": "sEJgbBKtUjMz"
      },
      "execution_count": null,
      "outputs": []
    },
    {
      "cell_type": "code",
      "source": [
        "#Some statistics and percentages\n",
        "df['gender'].value_counts(normalize=True)\n",
        "df = df[df.gender != 'Other']\n",
        "df['gender'].value_counts(normalize=True)"
      ],
      "metadata": {
        "id": "aLIrueIBUkJa"
      },
      "execution_count": null,
      "outputs": []
    },
    {
      "cell_type": "code",
      "source": [
        "df['work_type'].value_counts(normalize=True)"
      ],
      "metadata": {
        "id": "hGR5cUQcUoft"
      },
      "execution_count": null,
      "outputs": []
    },
    {
      "cell_type": "code",
      "source": [
        "df['smoking_status'].value_counts(normalize=True)"
      ],
      "metadata": {
        "id": "s_bpssIxUqSk"
      },
      "execution_count": null,
      "outputs": []
    },
    {
      "cell_type": "code",
      "source": [
        "#exploratory alaysis\n",
        "def barPerc(df,xVar,ax):\n",
        "    '''\n",
        "    barPerc(): Add percentage for hues to bar plots\n",
        "    args:\n",
        "        df: pandas dataframe\n",
        "        xVar: (string) X variable \n",
        "        ax: Axes object (for Seaborn Countplot/Bar plot or\n",
        "                         pandas bar plot)\n",
        "    '''\n",
        "    # 1. how many X categories\n",
        "    ##   check for NaN and remove\n",
        "    numX=len([x for x in df[xVar].unique() if x==x])\n",
        "\n",
        "    # 2. The bars are created in hue order, organize them\n",
        "    bars = ax.patches\n",
        "    ## 2a. For each X variable\n",
        "    for ind in range(numX):\n",
        "        ## 2b. Get every hue bar\n",
        "        ##     ex. 8 X categories, 4 hues =>\n",
        "        ##    [0, 8, 16, 24] are hue bars for 1st X category\n",
        "        hueBars=bars[ind:][::numX]\n",
        "        ## 2c. Get the total height (for percentages)\n",
        "        total = sum([x.get_height() for x in hueBars])\n",
        "\n",
        "        # 3. Print the percentage on the bars\n",
        "        for bar in hueBars:\n",
        "            ax.text(bar.get_x() + bar.get_width()/2.,\n",
        "                    bar.get_height(),\n",
        "                    f'{bar.get_height()/total:.0%}',\n",
        "                    ha=\"center\",va=\"bottom\")\n",
        "plt.figure(figsize=(8,8))\n",
        "sns.set(style=\"darkgrid\")\n",
        "stroke_smoke=sns.countplot(x='stroke',hue='smoking_status',data=df)\n",
        "barPerc(df,'stroke',stroke_smoke)\n",
        "plt.show()\n",
        "\n",
        "plt.figure(figsize=(7,7))\n",
        "sns.set(style=\"darkgrid\")\n",
        "stroke_gender=sns.countplot(x='stroke',hue='gender',data=df)\n",
        "barPerc(df,'stroke',stroke_gender)\n",
        "plt.show()\n",
        "\n",
        "plt.figure(figsize=(7,7))\n",
        "sns.set(style=\"darkgrid\")\n",
        "stroke_hypertension=sns.countplot(x='stroke',hue='hypertension',data=df)\n",
        "barPerc(df,'stroke',stroke_hypertension)\n",
        "plt.show()\n",
        "\n",
        "\n",
        "plt.figure(figsize=(7,7))\n",
        "sns.set(style=\"darkgrid\")\n",
        "stroke_heart_disease=sns.countplot(x='stroke',hue='heart_disease',data=df)\n",
        "barPerc(df,'stroke',stroke_heart_disease)\n",
        "plt.show()\n",
        "\n",
        "\n",
        "plt.figure(figsize=(7,7))\n",
        "sns.set(style=\"darkgrid\")\n",
        "stroke_ever_married=sns.countplot(x='stroke',hue='ever_married',data=df)\n",
        "barPerc(df,'stroke',stroke_ever_married)\n",
        "plt.show()\n",
        "\n",
        "\n",
        "\n",
        "plt.figure(figsize=(7,7))\n",
        "sns.set(style=\"darkgrid\")\n",
        "stroke_work_type=sns.countplot(x='stroke',hue='work_type',data=df)\n",
        "plt.show()\n",
        "\n",
        "\n",
        "plt.figure(figsize=(7,7))\n",
        "sns.set(style=\"darkgrid\")\n",
        "stroke_Residence_type=sns.countplot(x='stroke',hue='Residence_type',data=df)\n",
        "barPerc(df,'stroke',stroke_Residence_type)\n",
        "plt.show()"
      ],
      "metadata": {
        "id": "mQAjPVLOUvYb"
      },
      "execution_count": null,
      "outputs": []
    },
    {
      "cell_type": "code",
      "source": [
        "#Stroke distribution by age\n",
        "fig = plt.figure(figsize=(10,8))\n",
        "ax = fig.add_subplot(111)\n",
        "ax.axes.get_yaxis().set_visible(False)\n",
        "ax.text(-5, 0.03, 'Stroke', {'size': '20',\n",
        "                             'weight': 'bold',\n",
        "                             'color': 'red'}, alpha=0.9)\n",
        "\n",
        "ax.text(15, 0.03, 'Healthy', {'size': '20',\n",
        "                             'weight': 'bold',\n",
        "                             'color': 'blue'}, alpha=0.9)\n",
        "\n",
        "plt.title('Stroke distribution by Age',size=15)\n",
        "sns.kdeplot(data=df[df.stroke == 1],\n",
        "            x='age', shade=True,color='red')\n",
        "sns.kdeplot(data=df[df.stroke == 0],\n",
        "            x='age', shade=True,color='blue', alpha=0.7)\n",
        "plt.show()"
      ],
      "metadata": {
        "id": "yOOxb_1CU4j-"
      },
      "execution_count": null,
      "outputs": []
    },
    {
      "cell_type": "code",
      "source": [
        "#measure association between stroke different variables\n",
        "!pip install researchpy\n",
        "import researchpy\n",
        "#to obtaion degrees of freedom\n",
        "contTable=pd.crosstab(df['heart_disease'], df['stroke'])\n",
        "deg_freedom = min(contTable.shape[0], contTable.shape[1]) - 1\n",
        "deg_freedom\n"
      ],
      "metadata": {
        "id": "7_GkSRQ4U8J9"
      },
      "execution_count": null,
      "outputs": []
    },
    {
      "cell_type": "code",
      "source": [
        "crosstab, res = researchpy.crosstab(df['heart_disease'], df['stroke'], test='chi-square')\n",
        "res"
      ],
      "metadata": {
        "id": "Dxm_4NtpVNJt"
      },
      "execution_count": null,
      "outputs": []
    },
    {
      "cell_type": "code",
      "source": [
        "#measure association between stroke and hypertension\n",
        "crosstab, res = researchpy.crosstab(df['hypertension'], df['stroke'], test='chi-square')\n",
        "res"
      ],
      "metadata": {
        "id": "GRj8pNYNU_Ih"
      },
      "execution_count": null,
      "outputs": []
    },
    {
      "cell_type": "code",
      "source": [
        "crosstab, res = researchpy.crosstab(df['gender'], df['stroke'], test='chi-square')\n",
        "res"
      ],
      "metadata": {
        "id": "gxdOxPCmVYLu"
      },
      "execution_count": null,
      "outputs": []
    },
    {
      "cell_type": "code",
      "source": [
        "#measure association between stroke and marital status\n",
        "crosstab, res = researchpy.crosstab(df['ever_married'], df['stroke'], test='chi-square')\n",
        "res"
      ],
      "metadata": {
        "id": "2O7mU8tyVZFU"
      },
      "execution_count": null,
      "outputs": []
    },
    {
      "cell_type": "code",
      "source": [
        "#measure association between stroke and work\n",
        "crosstab, res = researchpy.crosstab(df['work_type'], df['stroke'], test='chi-square')\n",
        "res"
      ],
      "metadata": {
        "id": "sROwkJdgVb0G"
      },
      "execution_count": null,
      "outputs": []
    },
    {
      "cell_type": "code",
      "source": [
        "df.head(20)"
      ],
      "metadata": {
        "id": "GcpEY-KPe4zu"
      },
      "execution_count": null,
      "outputs": []
    },
    {
      "cell_type": "code",
      "source": [
        "#recoding categorical variables\n",
        "from sklearn import preprocessing\n",
        "cat_columns = [cname for cname in df.columns\n",
        "                        if df[cname].dtype == 'object']\n",
        "\n",
        "encoder = preprocessing.LabelEncoder()\n",
        "\n",
        "for col in cat_columns:\n",
        "    df[col] = encoder.fit_transform(df[col])\n",
        "\n",
        "df.head(20)"
      ],
      "metadata": {
        "id": "tqIQQdo8dMjs"
      },
      "execution_count": null,
      "outputs": []
    },
    {
      "cell_type": "code",
      "source": [
        "# Fitting different models\n",
        "#import necessary modules\n",
        "from sklearn import metrics\n",
        "from sklearn.metrics import precision_score, f1_score, recall_score, classification_report, confusion_matrix,roc_curve\n",
        "from sklearn.model_selection import GridSearchCV\n",
        "from sklearn.model_selection import train_test_split, cross_val_score\n",
        "y=df['stroke']\n",
        "x=df.drop(['stroke'],axis=1)\n",
        "\n",
        "#first, logistic regression model\n",
        "from sklearn.linear_model import LogisticRegression\n",
        "X_train, X_test, y_train, y_test = train_test_split(x, y, test_size = 0.2, random_state=42)\n",
        "\n",
        "# Setup the hyperparameter grid\n",
        "c_space = np.logspace(-5, 8, 15)\n",
        "param_grid = {'C': c_space}\n",
        "# Instantiate a logistic regression classifier: logreg\n",
        "logreg = LogisticRegression(max_iter= 10000)\n",
        "# Instantiate the GridSearchCV object: logreg_cv\n",
        "logreg_cv = GridSearchCV(logreg, param_grid, cv=5)\n",
        "# Fit it to the data\n",
        "logreg_cv.fit(X_train,y_train)\n",
        "\n"
      ],
      "metadata": {
        "id": "q7HtzrIGfEU0"
      },
      "execution_count": null,
      "outputs": []
    },
    {
      "cell_type": "code",
      "source": [
        "#measure auc score for the logistic regression model\n",
        "logreg_auc=cross_val_score(logreg_cv,X_train,y_train,scoring='roc_auc').mean()\n",
        "print(\"AUC of logistic regression model: {}\".format (logreg_auc))\n"
      ],
      "metadata": {
        "id": "g8I9PCOtOaPX"
      },
      "execution_count": null,
      "outputs": []
    },
    {
      "cell_type": "code",
      "source": [
        "#Score of loistic regression model\n",
        "y_predict_log=logreg_cv.predict(X_test)\n",
        "print(\"score of logistic regression model: {}\".format (logreg_cv.score(X_test, y_test)))"
      ],
      "metadata": {
        "id": "1iNUXnDVfpHy"
      },
      "execution_count": null,
      "outputs": []
    },
    {
      "cell_type": "code",
      "source": [
        "#ROC curve for logistic model\n",
        "# Compute predicted probabilities: y_pred_prob\n",
        "y_pred_prob = logreg_cv.predict_proba(X_test)[:,1]\n",
        "# Generate ROC curve values: fpr, tpr, thresholds\n",
        "fpr, tpr, thresholds = roc_curve(y_test, y_pred_prob)\n",
        "# Plot ROC curve\n",
        "plt.plot([0, 1], [0, 1], 'k--')\n",
        "plt.plot(fpr, tpr)\n",
        "plt.xlabel('False Positive Rate')\n",
        "plt.ylabel('True Positive Rate')\n",
        "plt.title('ROC Curve')\n",
        "plt.show()\n"
      ],
      "metadata": {
        "id": "DnMsQ3Xfnv4X"
      },
      "execution_count": null,
      "outputs": []
    },
    {
      "cell_type": "code",
      "source": [
        "#import KNN and fiure out its best parameters\n",
        "from sklearn.neighbors import KNeighborsClassifier\n",
        "grid_params={ 'n_neighbors' : [5,7,9,11,13,15],\n",
        "               'weights' : ['uniform','distance'],\n",
        "               'metric' : ['minkowski','euclidean','manhattan'], 'algorithm': ['auto','brute','kd_tree','ball_tree' ]} \n",
        "knn=KNeighborsClassifier()\n",
        "knn_cv = GridSearchCV(knn, grid_params, cv=5)\n",
        "knn_cv.fit(x,y)\n",
        "print(\"Tuned KNN Parameters: {}\".format(knn_cv.best_params_)) "
      ],
      "metadata": {
        "id": "nlXphg6No1Na"
      },
      "execution_count": null,
      "outputs": []
    },
    {
      "cell_type": "code",
      "source": [
        "#Use KNN model and measure its score\n",
        "KNN=KNeighborsClassifier(algorithm='auto', metric='minkowski',n_neighbors=5, weights='uniform')\n",
        "KNN.fit(X_train,y_train)\n",
        "y_pred_knn=KNN.predict(X_test)\n",
        "print(\"score of KNN model: {}\".format (KNN.score(X_test, y_test)))"
      ],
      "metadata": {
        "id": "JLuOFxDCiVcb"
      },
      "execution_count": null,
      "outputs": []
    },
    {
      "cell_type": "code",
      "source": [
        "#measure AUC for KNN model\n",
        "knn_auc=cross_val_score(KNN,X_train,y_train,scoring='roc_auc').mean()\n",
        "print(\"AUC of knn model: {}\".format (knn_auc))"
      ],
      "metadata": {
        "id": "zP-iMpYu-ssf"
      },
      "execution_count": null,
      "outputs": []
    },
    {
      "cell_type": "code",
      "source": [
        "#ROC curve for knn model\n",
        "# Compute predicted probabilities: y_pred_prob\n",
        "y_pred_prob_knn = KNN.predict_proba(X_test)[:,1]\n",
        "# Generate ROC curve values: fpr, tpr, thresholds\n",
        "fpr, tpr, thresholds = roc_curve(y_test, y_pred_prob_knn)\n",
        "# Plot ROC curve\n",
        "plt.plot([0, 1], [0, 1], 'k--')\n",
        "plt.plot(fpr, tpr)\n",
        "plt.xlabel('False Positive Rate')\n",
        "plt.ylabel('True Positive Rate')\n",
        "plt.title('ROC Curve')\n",
        "plt.show()\n"
      ],
      "metadata": {
        "id": "N_adpYJsjgJA"
      },
      "execution_count": null,
      "outputs": []
    },
    {
      "cell_type": "code",
      "source": [
        "#Random forest model\n",
        "from sklearn.ensemble import RandomForestClassifier\n",
        "rf=RandomForestClassifier()\n",
        "param_grids_RF={ 'n_estimators' : [100,200,300,400,500,600],\n",
        "               'criterion' : ['gini','entropy'],\n",
        "               'max_features' : ['auto','sqrt','log2']}\n",
        "rf1 = GridSearchCV(rf, param_grids_RF,cv=5)\n",
        "rf1.fit(x,y)\n",
        "print(\"Tuned RF Parameters: {}\".format(rf1.best_params_)) "
      ],
      "metadata": {
        "id": "vTHQ2H_Ij3ya"
      },
      "execution_count": null,
      "outputs": []
    },
    {
      "cell_type": "code",
      "source": [
        "#Apply Random forest model and measure its score\n",
        "RF=RandomForestClassifier(n_estimators=300, criterion='gini',max_features='log2',random_state=1)\n",
        "RF.fit(X_train,y_train)\n",
        "y_pred_RF=RF.predict(X_test)\n",
        "print(\"Score of RF model: {}\".format (RF.score(X_test, y_test)))"
      ],
      "metadata": {
        "id": "5Dump5HcoJwl"
      },
      "execution_count": null,
      "outputs": []
    },
    {
      "cell_type": "code",
      "source": [
        "#Measure AUC for Random Forest model\n",
        "RF_auc=cross_val_score(RF,X_train,y_train,scoring='roc_auc').mean()\n",
        "print(\"AUC of RF model: {}\".format (RF_auc))"
      ],
      "metadata": {
        "id": "5bczEMip-0zC"
      },
      "execution_count": null,
      "outputs": []
    },
    {
      "cell_type": "code",
      "source": [
        "#ROC curve for KNN model\n",
        "# Compute predicted probabilities: y_pred_prob\n",
        "y_pred_prob_RF = RF.predict_proba(X_test)[:,1]\n",
        "# Generate ROC curve values: fpr, tpr, thresholds\n",
        "fpr, tpr, thresholds = roc_curve(y_test, y_pred_prob_RF)\n",
        "# Plot ROC curve\n",
        "plt.plot([0, 1], [0, 1], 'k--')\n",
        "plt.plot(fpr, tpr)\n",
        "plt.xlabel('False Positive Rate')\n",
        "plt.ylabel('True Positive Rate')\n",
        "plt.title('ROC Curve')\n",
        "plt.show()\n"
      ],
      "metadata": {
        "id": "10LuLCdOARdG"
      },
      "execution_count": null,
      "outputs": []
    }
  ]
}